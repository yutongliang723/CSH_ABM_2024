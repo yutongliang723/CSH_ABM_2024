{
 "cells": [
  {
   "cell_type": "code",
   "execution_count": 17,
   "metadata": {},
   "outputs": [
    {
     "name": "stderr",
     "output_type": "stream",
     "text": [
      "2025-03-13 22:51:36,428 - INFO - Parameters loaded successfully.\n"
     ]
    },
    {
     "name": "stdout",
     "output_type": "stream",
     "text": [
      "Parameter sizes: [1, 1, 1, 1, 1, 1, 1, 1, 1, 1, 1, 1, 1, 1, 2, 1, 1, 1, 1, 1, 1, 1, 1, 1, 1, 1, 1, 2, 1, 1, 1, 1, 1, 1, 1, 1, 1, 1, 1, 1, 1, 1, 1, 1]\n",
      "Total number of experiment combinations: 4\n"
     ]
    }
   ],
   "source": [
    "import pandas as pd\n",
    "import numpy as np\n",
    "import math\n",
    "import json\n",
    "from main import * \n",
    "\n",
    "params = load_parameters(file_path=\"params_exp_short.json\")\n",
    "param_sizes = [len(v) for k, v in params.items() if k != \"conditions\"]\n",
    "condition_sizes = [len(v) for v in params[\"conditions\"].values()]\n",
    "num_experiments = math.prod(param_sizes) * math.prod(condition_sizes)\n",
    "print(f\"Parameter sizes: {param_sizes + condition_sizes}\")\n",
    "print(f\"Total number of experiment combinations: {num_experiments}\")"
   ]
  },
  {
   "cell_type": "code",
   "execution_count": null,
   "metadata": {},
   "outputs": [],
   "source": []
  },
  {
   "cell_type": "code",
   "execution_count": null,
   "metadata": {},
   "outputs": [],
   "source": [
    "import pandas as pd\n",
    "import os\n",
    "results_df = pd.read_csv('experiment_results/all_experiments_summary.csv')\n",
    "df = results_df\n",
    "\n",
    "base_path = os.path.abspath(\"experiment_results\")  # Adjust if needed\n",
    "\n",
    "def make_clickable_image(relative_path):\n",
    "    \"\"\"Creates an HTML clickable image link for local files.\"\"\"\n",
    "    abs_path = os.path.join(base_path, relative_path[len('experiment_results/'):])  # Convert relative to absolute path\n",
    "    print(\"relative_path\", relative_path)\n",
    "    return f'<a href=\"file://{abs_path}\" target=\"_blank\">{relative_path[len('experiment_results/'):]}</a>'\n",
    "\n",
    "df[\"Image Path 1\"] = df[\"Image Path 1\"].apply(make_clickable_image)\n",
    "df[\"Image Path 2\"] = df[\"Image Path 2\"].apply(make_clickable_image)\n",
    "\n",
    "df.to_html(\"output.html\", escape=False)"
   ]
  },
  {
   "cell_type": "code",
   "execution_count": 53,
   "metadata": {},
   "outputs": [
    {
     "data": {
      "text/plain": [
       "'<a href=\"file:///Users/susanliang/Desktop/CSH/ABM/2024/experiment_results/experiment_0_1.png\" target=\"_blank\">Report</a>'"
      ]
     },
     "execution_count": 53,
     "metadata": {},
     "output_type": "execute_result"
    }
   ],
   "source": [
    "df['Image Path 1'][0]"
   ]
  },
  {
   "cell_type": "code",
   "execution_count": 29,
   "metadata": {},
   "outputs": [],
   "source": [
    "results_df.to_csv(\"experiment_results/all_experiments_summary.csv\", index=False)"
   ]
  }
 ],
 "metadata": {
  "kernelspec": {
   "display_name": "nlp",
   "language": "python",
   "name": "python3"
  },
  "language_info": {
   "codemirror_mode": {
    "name": "ipython",
    "version": 3
   },
   "file_extension": ".py",
   "mimetype": "text/x-python",
   "name": "python",
   "nbconvert_exporter": "python",
   "pygments_lexer": "ipython3",
   "version": "3.12.1"
  }
 },
 "nbformat": 4,
 "nbformat_minor": 2
}
