{
 "cells": [
  {
   "cell_type": "code",
   "execution_count": 43,
   "metadata": {},
   "outputs": [
    {
     "name": "stdout",
     "output_type": "stream",
     "text": [
      "Full factorial combinations (131072 total):\n",
      "\n",
      "One-factor-at-a-time combinations (18 total):\n",
      "((1000, 20, 80, 2, 1, 0.05, 2, 1, 10, 60, 0.1, 2, 0.01, 10, 1, 5, 10, 0.2, 1.5, 2, 5, 1.5, 20, 1, 0.01, 2, 5, 20, 'simulation_plots.svg', 'numerical_output.csv', 'demog_vectors_scaled.csv', 'simulation_gif.gif', 0.1, 5, True, True, True, True), (True, True, True, False, True))\n",
      "((1000, 80, 80, 2, 1, 0.05, 2, 1, 10, 60, 0.1, 2, 0.01, 10, 1, 5, 10, 0.2, 1.5, 2, 5, 1.5, 20, 1, 0.01, 2, 5, 20, 'simulation_plots.svg', 'numerical_output.csv', 'demog_vectors_scaled.csv', 'simulation_gif.gif', 0.1, 5, True, True, True, True), (True, True, True, False, True))\n",
      "((1000, 20, 80, 2, 1, 0.5, 2, 1, 10, 60, 0.1, 2, 0.01, 10, 1, 5, 10, 0.2, 1.5, 2, 5, 1.5, 20, 1, 0.01, 2, 5, 20, 'simulation_plots.svg', 'numerical_output.csv', 'demog_vectors_scaled.csv', 'simulation_gif.gif', 0.1, 5, True, True, True, True), (True, True, True, False, True))\n",
      "((1000, 20, 80, 2, 1, 0.05, 10, 1, 10, 60, 0.1, 2, 0.01, 10, 1, 5, 10, 0.2, 1.5, 2, 5, 1.5, 20, 1, 0.01, 2, 5, 20, 'simulation_plots.svg', 'numerical_output.csv', 'demog_vectors_scaled.csv', 'simulation_gif.gif', 0.1, 5, True, True, True, True), (True, True, True, False, True))\n",
      "((1000, 20, 80, 2, 1, 0.05, 2, 10, 10, 60, 0.1, 2, 0.01, 10, 1, 5, 10, 0.2, 1.5, 2, 5, 1.5, 20, 1, 0.01, 2, 5, 20, 'simulation_plots.svg', 'numerical_output.csv', 'demog_vectors_scaled.csv', 'simulation_gif.gif', 0.1, 5, True, True, True, True), (True, True, True, False, True))\n",
      "((1000, 20, 80, 2, 1, 0.05, 2, 1, 10, 60, 0.6, 2, 0.01, 10, 1, 5, 10, 0.2, 1.5, 2, 5, 1.5, 20, 1, 0.01, 2, 5, 20, 'simulation_plots.svg', 'numerical_output.csv', 'demog_vectors_scaled.csv', 'simulation_gif.gif', 0.1, 5, True, True, True, True), (True, True, True, False, True))\n",
      "((1000, 20, 80, 2, 1, 0.05, 2, 1, 10, 60, 0.1, 2, 0.1, 10, 1, 5, 10, 0.2, 1.5, 2, 5, 1.5, 20, 1, 0.01, 2, 5, 20, 'simulation_plots.svg', 'numerical_output.csv', 'demog_vectors_scaled.csv', 'simulation_gif.gif', 0.1, 5, True, True, True, True), (True, True, True, False, True))\n",
      "((1000, 20, 80, 2, 1, 0.05, 2, 1, 10, 60, 0.1, 2, 0.01, 50, 1, 5, 10, 0.2, 1.5, 2, 5, 1.5, 20, 1, 0.01, 2, 5, 20, 'simulation_plots.svg', 'numerical_output.csv', 'demog_vectors_scaled.csv', 'simulation_gif.gif', 0.1, 5, True, True, True, True), (True, True, True, False, True))\n",
      "((1000, 20, 80, 2, 1, 0.05, 2, 1, 10, 60, 0.1, 2, 0.01, 10, 10, 5, 10, 0.2, 1.5, 2, 5, 1.5, 20, 1, 0.01, 2, 5, 20, 'simulation_plots.svg', 'numerical_output.csv', 'demog_vectors_scaled.csv', 'simulation_gif.gif', 0.1, 5, True, True, True, True), (True, True, True, False, True))\n",
      "((1000, 20, 80, 2, 1, 0.05, 2, 1, 10, 60, 0.1, 2, 0.01, 10, 1, 100, 10, 0.2, 1.5, 2, 5, 1.5, 20, 1, 0.01, 2, 5, 20, 'simulation_plots.svg', 'numerical_output.csv', 'demog_vectors_scaled.csv', 'simulation_gif.gif', 0.1, 5, True, True, True, True), (True, True, True, False, True))\n",
      "((1000, 20, 80, 2, 1, 0.05, 2, 1, 10, 60, 0.1, 2, 0.01, 10, 1, 5, 100, 0.2, 1.5, 2, 5, 1.5, 20, 1, 0.01, 2, 5, 20, 'simulation_plots.svg', 'numerical_output.csv', 'demog_vectors_scaled.csv', 'simulation_gif.gif', 0.1, 5, True, True, True, True), (True, True, True, False, True))\n",
      "((1000, 20, 80, 2, 1, 0.05, 2, 1, 10, 60, 0.1, 2, 0.01, 10, 1, 5, 10, 0.2, 1.5, 2, 50, 1.5, 20, 1, 0.01, 2, 5, 20, 'simulation_plots.svg', 'numerical_output.csv', 'demog_vectors_scaled.csv', 'simulation_gif.gif', 0.1, 5, True, True, True, True), (True, True, True, False, True))\n",
      "((1000, 20, 80, 2, 1, 0.05, 2, 1, 10, 60, 0.1, 2, 0.01, 10, 1, 5, 10, 0.2, 1.5, 2, 5, 1.5, 20, 10, 0.01, 2, 5, 20, 'simulation_plots.svg', 'numerical_output.csv', 'demog_vectors_scaled.csv', 'simulation_gif.gif', 0.1, 5, True, True, True, True), (True, True, True, False, True))\n",
      "((1000, 20, 80, 2, 1, 0.05, 2, 1, 10, 60, 0.1, 2, 0.01, 10, 1, 5, 10, 0.2, 1.5, 2, 5, 1.5, 20, 1, 0.1, 2, 5, 20, 'simulation_plots.svg', 'numerical_output.csv', 'demog_vectors_scaled.csv', 'simulation_gif.gif', 0.1, 5, True, True, True, True), (True, True, True, False, True))\n",
      "((1000, 20, 80, 2, 1, 0.05, 2, 1, 10, 60, 0.1, 2, 0.01, 10, 1, 5, 10, 0.2, 1.5, 2, 5, 1.5, 20, 1, 0.01, 2, 5, 20, 'simulation_plots.svg', 'numerical_output.csv', 'demog_vectors_scaled.csv', 'simulation_gif.gif', 0.1, 5, False, True, True, True), (True, True, True, False, True))\n",
      "((1000, 20, 80, 2, 1, 0.05, 2, 1, 10, 60, 0.1, 2, 0.01, 10, 1, 5, 10, 0.2, 1.5, 2, 5, 1.5, 20, 1, 0.01, 2, 5, 20, 'simulation_plots.svg', 'numerical_output.csv', 'demog_vectors_scaled.csv', 'simulation_gif.gif', 0.1, 5, True, False, True, True), (True, True, True, False, True))\n",
      "((1000, 20, 80, 2, 1, 0.05, 2, 1, 10, 60, 0.1, 2, 0.01, 10, 1, 5, 10, 0.2, 1.5, 2, 5, 1.5, 20, 1, 0.01, 2, 5, 20, 'simulation_plots.svg', 'numerical_output.csv', 'demog_vectors_scaled.csv', 'simulation_gif.gif', 0.1, 5, True, True, False, True), (True, True, True, False, True))\n",
      "((1000, 20, 80, 2, 1, 0.05, 2, 1, 10, 60, 0.1, 2, 0.01, 10, 1, 5, 10, 0.2, 1.5, 2, 5, 1.5, 20, 1, 0.01, 2, 5, 20, 'simulation_plots.svg', 'numerical_output.csv', 'demog_vectors_scaled.csv', 'simulation_gif.gif', 0.1, 5, True, True, True, False), (True, True, True, False, True))\n"
     ]
    }
   ],
   "source": [
    "import json\n",
    "import itertools\n",
    "\n",
    "def load_experiment_parameters(file_path=\"params_exp_short.json\"):\n",
    "    try:\n",
    "        with open(file_path, \"r\") as f:\n",
    "            params = json.load(f)\n",
    "        return params[\"simulation_parameters\"]\n",
    "    except Exception as e:\n",
    "        pass\n",
    "\n",
    "# Sample parameter set for testing\n",
    "params = load_experiment_parameters()\n",
    "params1 = {\n",
    "    \"year\": [1000],\n",
    "    \"num_house\": [20, 80],\n",
    "    \"land_cells\": [80],\n",
    "    \"prod_multiplier\": [2],\n",
    "    \"fishing_discount\": [1],\n",
    "    \"fallow_period\": [2, 10],\n",
    "    \"spare_food_enabled\": [True, False],\n",
    "    \"conditions\": {\n",
    "        \"use_fertility\": [True],\n",
    "        \"check_gender\": [True],\n",
    "        \"check_land\": [False, True]\n",
    "    }\n",
    "}\n",
    "\n",
    "def full_factorial(params):\n",
    "    param_keys = [k for k in params.keys() if k != \"conditions\"]\n",
    "    condition_keys = list(params[\"conditions\"].keys())\n",
    "    \n",
    "    param_values = [params[k] if isinstance(params[k], list) else [params[k]] for k in param_keys]\n",
    "    condition_values = [params[\"conditions\"][k] if isinstance(params[\"conditions\"][k], list) else [params[\"conditions\"][k]] for k in condition_keys]\n",
    "    \n",
    "    param_combinations = list(itertools.product(*param_values))\n",
    "    condition_combinations = list(itertools.product(*condition_values))\n",
    "    \n",
    "    all_combinations = list(itertools.product(param_combinations, condition_combinations))\n",
    "    return param_keys, condition_keys, all_combinations\n",
    "\n",
    "def one_factor_at_a_time(params):\n",
    "    import copy\n",
    "\n",
    "    param_keys = [k for k in params if k != \"conditions\"]\n",
    "    condition_keys = list(params.get(\"conditions\", {}).keys())\n",
    "\n",
    "    all_experiments = []\n",
    "\n",
    "    # Get base (first) values\n",
    "    base_param_values = [params[k][0] if isinstance(params[k], list) else params[k] for k in param_keys]\n",
    "    base_condition_values = [params[\"conditions\"][k][0] if isinstance(params[\"conditions\"][k], list) else params[\"conditions\"][k] for k in condition_keys]\n",
    "\n",
    "    def replace_and_tuple(base_list, index, new_value):\n",
    "        temp = copy.deepcopy(base_list)\n",
    "        temp[index] = new_value\n",
    "        return tuple(temp)\n",
    "\n",
    "    # Vary one parameter at a time\n",
    "    for i, key in enumerate(param_keys):\n",
    "        values = params[key] if isinstance(params[key], list) else [params[key]]\n",
    "        for v in values:\n",
    "            if v == base_param_values[i]:\n",
    "                continue  # skip base value (avoid duplicates)\n",
    "            param_tuple = replace_and_tuple(base_param_values, i, v)\n",
    "            condition_tuple = tuple(base_condition_values)\n",
    "            all_experiments.append((param_tuple, condition_tuple))\n",
    "\n",
    "    # Vary one condition at a time\n",
    "    for i, key in enumerate(condition_keys):\n",
    "        values = params[\"conditions\"][key] if isinstance(params[\"conditions\"][key], list) else [params[\"conditions\"][key]]\n",
    "        for v in values:\n",
    "            if v == base_condition_values[i]:\n",
    "                continue  # skip base value\n",
    "            param_tuple = tuple(base_param_values)\n",
    "            condition_tuple = replace_and_tuple(base_condition_values, i, v)\n",
    "            all_experiments.append((param_tuple, condition_tuple))\n",
    "\n",
    "    # Add base case as the first experiment\n",
    "    all_experiments.insert(0, (tuple(base_param_values), tuple(base_condition_values)))\n",
    "\n",
    "    return param_keys, condition_keys, all_experiments\n",
    "# Run and display both\n",
    "full_keys, full_conditions, full_combos = full_factorial(params)\n",
    "ofat_keys, ofat_conditions, ofat_combos = one_factor_at_a_time(params)\n",
    "\n",
    "print(\"Full factorial combinations ({} total):\".format(len(full_combos)))\n",
    "\n",
    "print(\"\\nOne-factor-at-a-time combinations ({} total):\".format(len(ofat_combos)))\n",
    "for combo in ofat_combos:\n",
    "    print(combo)\n"
   ]
  },
  {
   "cell_type": "code",
   "execution_count": 39,
   "metadata": {},
   "outputs": [
    {
     "data": {
      "text/plain": [
       "dict"
      ]
     },
     "execution_count": 39,
     "metadata": {},
     "output_type": "execute_result"
    }
   ],
   "source": [
    "type(params['conditions'])"
   ]
  },
  {
   "cell_type": "code",
   "execution_count": 40,
   "metadata": {},
   "outputs": [
    {
     "data": {
      "text/plain": [
       "dict"
      ]
     },
     "execution_count": 40,
     "metadata": {},
     "output_type": "execute_result"
    }
   ],
   "source": [
    "type(params1['conditions'])"
   ]
  }
 ],
 "metadata": {
  "kernelspec": {
   "display_name": "nlp",
   "language": "python",
   "name": "python3"
  },
  "language_info": {
   "codemirror_mode": {
    "name": "ipython",
    "version": 3
   },
   "file_extension": ".py",
   "mimetype": "text/x-python",
   "name": "python",
   "nbconvert_exporter": "python",
   "pygments_lexer": "ipython3",
   "version": "3.12.1"
  }
 },
 "nbformat": 4,
 "nbformat_minor": 2
}
