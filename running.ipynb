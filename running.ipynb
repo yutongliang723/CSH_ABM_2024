{
 "cells": [
  {
   "cell_type": "markdown",
   "metadata": {},
   "source": [
    "#### What is this notebook?"
   ]
  },
  {
   "cell_type": "markdown",
   "metadata": {},
   "source": [
    "This notebook is made for running parameter experiments. Since I have taken out the hard coded numerical variables, I gathered it in a `parameters.json` file and here.  When the model is basically done, you can run the experiments here rather easily."
   ]
  },
  {
   "cell_type": "markdown",
   "metadata": {},
   "source": [
    "#### How to use this notebook?"
   ]
  },
  {
   "cell_type": "markdown",
   "metadata": {},
   "source": [
    "Hints:  \n",
    "1. Run `%load para.py` and it will load the code and default parameters from `para.py` directly into the same cell. Then, you can modify the parameters to experiment.  \n",
    "  \n",
    "2. Only modify the `parameters.json` is enough for the current stage. After modifying the root `parameters.json` file, the modifed file will be saved in the simulation result folder. The result folder is structured as `%d-%m-%Y&%H-%M-%S`\n",
    "\n",
    "3. After modifying all `parameters.json`, adjust `vec1` if necessary. Then hit `Run All`. The results and parameters used to create the results are saved in the `run_results` folder.  \n",
    "  \n",
    "4. Please COMMENT OUT the `from variables import *`to have the file saved properly!!! (trying to have a improve method)\n",
    "\n",
    "5.  Read the `.svg` by dragging it to a brower.\n",
    "  \n",
    "When to change the code: \n",
    "1. No need to change this notebook unless `vec1` is changed. If you want to change `vec1`, then change the respective code in Cell 1.  \n",
    "2. If `main.py` is updated, then please reload the Cell 3. Reloading method refer to point 1 and comment out the `from variables import *` according to point 4."
   ]
  },
  {
   "cell_type": "markdown",
   "metadata": {},
   "source": [
    "#### Cell 1: Load parameters"
   ]
  },
  {
   "cell_type": "code",
   "execution_count": 1,
   "metadata": {},
   "outputs": [
    {
     "name": "stderr",
     "output_type": "stream",
     "text": [
      "/var/folders/wr/956qfj8n0nd7qf20gnbgf5qw0000gn/T/ipykernel_83761/3688546571.py:49: FutureWarning: The default of observed=False is deprecated and will be changed to True in a future version of pandas. Pass observed=False to retain current behavior or observed=True to adopt the future default and silence this warning.\n",
      "  binned_col = vec1.groupby(bins).agg({col: 'mean'}).reset_index()\n",
      "/var/folders/wr/956qfj8n0nd7qf20gnbgf5qw0000gn/T/ipykernel_83761/3688546571.py:49: FutureWarning: The default of observed=False is deprecated and will be changed to True in a future version of pandas. Pass observed=False to retain current behavior or observed=True to adopt the future default and silence this warning.\n",
      "  binned_col = vec1.groupby(bins).agg({col: 'mean'}).reset_index()\n",
      "/var/folders/wr/956qfj8n0nd7qf20gnbgf5qw0000gn/T/ipykernel_83761/3688546571.py:49: FutureWarning: The default of observed=False is deprecated and will be changed to True in a future version of pandas. Pass observed=False to retain current behavior or observed=True to adopt the future default and silence this warning.\n",
      "  binned_col = vec1.groupby(bins).agg({col: 'mean'}).reset_index()\n"
     ]
    }
   ],
   "source": [
    "# %load variables.py\n",
    "import scipy.special as sp\n",
    "import pandas as pd\n",
    "import numpy as np\n",
    "import os\n",
    "import json\n",
    "with open(\"parameters.json\", \"r\") as f:\n",
    "    params = json.load(f)\n",
    "\n",
    "year = params[\"year\"] # simulation years\n",
    "num_house = params[\"num_house\"] # number of initial houses\n",
    "land_cells = params[\"land_cells\"] # initial amount of land cells\n",
    "prod_multiplier = params[\"prod_multiplier\"]\n",
    "fishing_discount = params[\"fishing_discount\"]\n",
    "fallow_ratio = params[\"fallow_ratio\"] # % of the total land\n",
    "fallow_period = params[\"fallow_period\"] # years\n",
    "food_expiration_steps = params[\"food_expiration_steps\"] # initial 3, by changing it from 3 to 2, everything changed a lot!\n",
    "marriage_from = params[\"marriage_from\"]\n",
    "marriage_to = params[\"marriage_to\"]\n",
    "bride_price_ratio = params[\"bride_price_ratio\"] # by changing it up, I haven't observed any changes yet\n",
    "land_ecovery_rate = params[\"land_ecovery_rate\"] # initial 0.03\n",
    "land_max_capacity = params[\"land_max_capacity\"] # initial 10\n",
    "initial_quality = params[\"initial_quality\"] # initial 5\n",
    "fish_chance = params[\"fish_chance\"] # initial 0.3\n",
    "exchange_rate = params[\"exchange_rate\"] # luxury to food # by changing it from 10 to 30, the gini changed a lot\n",
    "luxury_good_storage = params[\"luxury_good_storage\"] # initial 0\n",
    "storage_ratio_low = params[\"storage_ratio_low\"]\n",
    "storage_ratio_high = params[\"storage_ratio_high\"]\n",
    "land_capacity_low = params[\"land_capacity_low\"]\n",
    "max_member = params[\"max_member\"]\n",
    "excess_food_ratio = params[\"excess_food_ratio\"] # initial 2\n",
    "trade_back_start = params[\"trade_back_start\"]\n",
    "lux_per_year = params[\"lux_per_year\"] # initial 5 lowering it lower the gini coefficient\n",
    "land_depreciate_factor = params[\"land_depreciate_factor\"] # very important, when it was 0.01, the population died after 1000 years\n",
    "fertility_scaler = params[\"fertility_scaler\"] # very important, society cannot live up to 1000 yr if it is below 4 or 3. however, then the accumulative population is too much\n",
    "file_path = params[\"file_path\"]\n",
    "file_name = params[\"file_name\"]\n",
    "\n",
    "vec1 = pd.read_csv('demog_vectors.csv')\n",
    "vec1 = vec1.rename_axis('age').reset_index()\n",
    "new_max_age = 60\n",
    "old_max_age = vec1['age'].max()\n",
    "scale_factor = new_max_age / old_max_age\n",
    "scale_factor = 1\n",
    "other_para = ['rho', 'pstar', 'mortparms']\n",
    "bins = pd.cut(vec1['age'], bins=new_max_age)\n",
    "binned_vec = pd.DataFrame()\n",
    "for col in other_para:\n",
    "    binned_col = vec1.groupby(bins).agg({col: 'mean'}).reset_index()\n",
    "    binned_col[col] = binned_col[col] * scale_factor\n",
    "    binned_vec[col] = binned_col[col]\n",
    "\n",
    "bin_centers = [interval.mid for interval in binned_col['age']]\n",
    "binned_vec = binned_vec.rename_axis('age_new').reset_index()\n",
    "binned_vec['mstar'] = vec1['mstar']\n",
    "binned_vec['fertparm'] = vec1['fertparm']\n",
    "binned_vec['mortscale'] = vec1['mortscale']\n",
    "binned_vec['fertscale'] = vec1['fertscale']\n",
    "binned_vec['phi'] = vec1['phi']\n",
    "vec1 = binned_vec"
   ]
  },
  {
   "cell_type": "markdown",
   "metadata": {},
   "source": [
    "#### Cell 2: Manage file system"
   ]
  },
  {
   "cell_type": "code",
   "execution_count": 2,
   "metadata": {},
   "outputs": [],
   "source": [
    "import os\n",
    "import datetime\n",
    "from IPython.display import clear_output\n",
    "timestamp = datetime.datetime.now().strftime(\"%d-%m-%Y&%H-%M-%S\")\n",
    "folder_name = f\"land_run_results/{timestamp}\"\n",
    "file_name = f\"{folder_name}/{file_name}\"\n",
    "file_path = f\"{folder_name}/{file_path}\"\n",
    "os.makedirs(folder_name, exist_ok=True)\n",
    "with open(os.path.join(folder_name, \"parameters.json\"), \"w\") as f:\n",
    "    json.dump(params, f, indent=4)"
   ]
  },
  {
   "cell_type": "markdown",
   "metadata": {},
   "source": [
    "#### Cell 3: Run the main.py"
   ]
  },
  {
   "cell_type": "code",
   "execution_count": 3,
   "metadata": {},
   "outputs": [],
   "source": [
    "# %load main.py\n",
    "from household import Household\n",
    "from village import Village\n",
    "from agent import Agent\n",
    "from agent import Vec1\n",
    "# from variables import *\n",
    "import pandas as pd\n",
    "import utils\n",
    "import random\n",
    "import math\n",
    "import sys\n",
    "from IPython.display import clear_output\n",
    "\n",
    "random.seed(10)\n",
    "# args = sys.argv\n",
    "# if len(args) > 1:\n",
    "#     random.seed(int(args[1]))\n",
    "vec1_instance = Vec1()\n",
    "village = utils.generate_random_village(num_house, land_cells, vec1_instance, food_expiration_steps, land_ecovery_rate, land_max_capacity, initial_quality, fish_chance, fallow_period)\n",
    "village.initialize_network()\n",
    "village.initialize_network_relationship()\n",
    "for _ in range(year): \n",
    "    village.run_simulation_step(vec1_instance, prod_multiplier = prod_multiplier, fishing_discount = fishing_discount, fallow_ratio = fallow_ratio, fallow_period = fallow_period, food_expiration_steps = food_expiration_steps, marriage_from = marriage_from, marriage_to = marriage_to, bride_price_ratio = bride_price_ratio, exchange_rate = exchange_rate, storage_ratio_low=storage_ratio_low, storage_ratio_high=storage_ratio_high, land_capacity_low = land_capacity_low, max_member=max_member, excess_food_ratio = excess_food_ratio, trade_back_start = trade_back_start, lux_per_year = lux_per_year, land_depreciate_factor = land_depreciate_factor, fertility_scaler = fertility_scaler, spare_food_enabled=False, fallow_farming = False) # no fallow\n",
    "    # utils.print_village_summary(village)\n",
    "    \n",
    "village.plot_simulation_results(file_name)\n",
    "village.generate_animation(file_path, grid_dim=math.ceil(math.sqrt(land_cells)))\n",
    "# clear_output()\n"
   ]
  }
 ],
 "metadata": {
  "kernelspec": {
   "display_name": "nlp",
   "language": "python",
   "name": "python3"
  },
  "language_info": {
   "codemirror_mode": {
    "name": "ipython",
    "version": 3
   },
   "file_extension": ".py",
   "mimetype": "text/x-python",
   "name": "python",
   "nbconvert_exporter": "python",
   "pygments_lexer": "ipython3",
   "version": "3.12.1"
  }
 },
 "nbformat": 4,
 "nbformat_minor": 2
}
